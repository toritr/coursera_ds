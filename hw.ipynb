{
 "cells": [
  {
   "cell_type": "code",
   "execution_count": null,
   "id": "46a22244",
   "metadata": {},
   "outputs": [],
   "source": [
    "\n",
    "\n",
    "Exercise 2 - Create a markdown cell with the title of the notebook. (1 pt)\n",
    "\n",
    "Exercise 3 - Create a markdown cell for an introduction. (1 pt)\n",
    "\n",
    "Exercise 4 - Create a markdown cell to list data science languages. (3 pts)\n",
    "\n",
    "Exercise 5 - Create a markdown cell to list data science libraries. (3 pts)\n",
    "\n",
    "Exercise 6 - Create a markdown cell with a table of Data Science tools. (3 pts)\n",
    "\n",
    "Exercise 7 - Create a markdown cell introducing arithmetic expression examples. (1 pt)\n",
    "\n",
    "Exercise 8 - Create a code cell to multiply and add numbers. (2 pts)\n",
    "\n",
    "Exercise 9 - Create a code cell to convert minutes to hours. (2 pts)\n",
    "\n",
    "Exercise 10 -Insert a markdown cell to list Objectives. (3 pts)\n",
    "\n",
    "Exercise 11 - Create a markdown cell to indicate the Author’s name. (2 pts)\n",
    "\n",
    "Exercise 12 - Share your notebook through GitHub (3 pts)\n",
    "\n",
    "Exercise 13 - Take a screenshot of the first page of the notebook. (1 pt)\n",
    "\n",
    "The main grading criteria will be:\n",
    "\n",
    "Is the notebook publicly viewable?\n",
    "\n",
    "Are there, or do there appear to be, at least 8 Markdown cells and 2 code cells? \n",
    "\n",
    "Are the criteria for each cell fulfilled, as described in the \"Guidelines for Submission\"?\n",
    "\n",
    "You will not be judged on:\n",
    "\n",
    "Your English language, including spelling or grammatical mistakes."
   ]
  },
  {
   "cell_type": "markdown",
   "id": "ce312a5b",
   "metadata": {},
   "source": [
    "# Tittle of the Notebook"
   ]
  },
  {
   "cell_type": "code",
   "execution_count": null,
   "id": "3c24bd23",
   "metadata": {},
   "outputs": [],
   "source": [
    "Hello, my name is Victoria. Nice to meet you."
   ]
  },
  {
   "cell_type": "markdown",
   "id": "fc975953",
   "metadata": {},
   "source": [
    "#### In data science, practitioners commonly employ languages such as Python, R, SQL, Julia, Scala, MATLAB, Java, C/C++, JavaScript, and Ruby to analyze and derive insights from data."
   ]
  },
  {
   "cell_type": "markdown",
   "id": "679a8bd0",
   "metadata": {},
   "source": [
    "#### In data science, practitioners often utilize libraries such as pandas, scikit-learn, matplotlib, ggplot2, TensorFlow, Keras, PyTorch, NumPy, SciPy, caret, Spark, Hadoop, and Tableau to efficiently manipulate, analyze, and visualize data, and to build and deploy machine learning models."
   ]
  },
  {
   "cell_type": "markdown",
   "id": "9fe3bb75",
   "metadata": {},
   "source": [
    "| Category          | Tools                                        |\n",
    "|-------------------|----------------------------------------------|\n",
    "| Languages         | Python, R, SQL, Julia, Scala, MATLAB, Java, C/C++, JavaScript, Ruby |\n",
    "| Libraries         | pandas, scikit-learn, matplotlib, ggplot2, TensorFlow, Keras, PyTorch, NumPy, SciPy, caret, Spark, Hadoop, Tableau |\n",
    "| Frameworks        | Apache Spark, Hadoop, Flask, Django, Node.js |\n",
    "| Visualization     | matplotlib, ggplot2, Seaborn, Plotly, D3.js |\n",
    "| Database Systems  | MySQL, PostgreSQL, SQLite, MongoDB, Redis |\n",
    "| IDEs              | Jupyter Notebooks, RStudio, PyCharm, VSCode |\n",
    "| Version Control   | Git, GitHub, GitLab, Bitbucket |\n"
   ]
  },
  {
   "cell_type": "markdown",
   "id": "27dfaeb9",
   "metadata": {},
   "source": [
    "# Arithmetic Expression Examples\n",
    "\n",
    "In mathematics and computer science, arithmetic expressions are fundamental representations of mathematical operations. They involve operators such as addition, subtraction, multiplication, and division, along with parentheses to control the order of operations. Here are some examples of arithmetic expressions:\n",
    "\n",
    "1. Addition: \\( 2 + 3 = 5 \\)\n",
    "2. Subtraction: \\( 10 - 4 = 6 \\)\n",
    "3. Multiplication: \\( 5 \\times 4 = 20 \\)\n",
    "4. Division: \\( \\frac{10}{2} = 5 \\)\n",
    "5. Mixed Operations: \\( (3 + 4) \\times 2 - 5 = 9 \\)\n",
    "\n",
    "These examples demonstrate basic arithmetic operations and illustrate how expressions can be constructed and evaluated.\n"
   ]
  },
  {
   "cell_type": "code",
   "execution_count": null,
   "id": "cbed0459",
   "metadata": {},
   "outputs": [],
   "source": [
    "# Multiply and add numbers\n",
    "num1 = 5\n",
    "num2 = 3\n",
    "num3 = 2\n",
    "\n",
    "# Multiply num1 and num2\n",
    "result_multiply = num1 * num2\n",
    "\n",
    "# Add the result of multiplication with num3\n",
    "result_add = result_multiply + num3\n",
    "\n",
    "# Print the results\n",
    "print(\"Result of multiplication:\", result_multiply)\n",
    "print(\"Result of addition:\", result_add)\n"
   ]
  },
  {
   "cell_type": "code",
   "execution_count": null,
   "id": "2eebdcf6",
   "metadata": {},
   "outputs": [],
   "source": [
    "# Convert minutes to hours\n",
    "minutes = 120\n",
    "\n",
    "# Calculate hours\n",
    "hours = minutes / 60\n",
    "\n",
    "# Print the result\n",
    "print(minutes, \"minutes is equal to\", hours, \"hours\")\n"
   ]
  },
  {
   "cell_type": "markdown",
   "id": "d18d4b48",
   "metadata": {},
   "source": [
    "# Objectives\n",
    "\n",
    "In this exercise, we aim to:\n",
    "\n",
    "1. Practice converting minutes to hours using Python.\n",
    "2. Understand the relationship between minutes and hours.\n",
    "3. Learn how to perform basic arithmetic operations in Python.\n"
   ]
  },
  {
   "cell_type": "markdown",
   "id": "29afe138",
   "metadata": {},
   "source": [
    "### Author: Victoria\n"
   ]
  }
 ],
 "metadata": {
  "kernelspec": {
   "display_name": "Python 3 (ipykernel)",
   "language": "python",
   "name": "python3"
  },
  "language_info": {
   "codemirror_mode": {
    "name": "ipython",
    "version": 3
   },
   "file_extension": ".py",
   "mimetype": "text/x-python",
   "name": "python",
   "nbconvert_exporter": "python",
   "pygments_lexer": "ipython3",
   "version": "3.11.5"
  }
 },
 "nbformat": 4,
 "nbformat_minor": 5
}
